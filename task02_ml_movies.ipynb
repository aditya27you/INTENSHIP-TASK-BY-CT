{
  "nbformat": 4,
  "nbformat_minor": 0,
  "metadata": {
    "colab": {
      "provenance": [],
      "authorship_tag": "ABX9TyOUaNvIEELRo8OQ9uOb36Dp",
      "include_colab_link": true
    },
    "kernelspec": {
      "name": "python3",
      "display_name": "Python 3"
    },
    "language_info": {
      "name": "python"
    }
  },
  "cells": [
    {
      "cell_type": "markdown",
      "metadata": {
        "id": "view-in-github",
        "colab_type": "text"
      },
      "source": [
        "<a href=\"https://colab.research.google.com/github/aditya27you/INTENSHIP-TASK-BY-CT/blob/main/task2_2_ml_movies.ipynb\" target=\"_parent\"><img src=\"https://colab.research.google.com/assets/colab-badge.svg\" alt=\"Open In Colab\"/></a>"
      ]
    },
    {
      "cell_type": "code",
      "source": [
        "from google.colab import drive\n",
        "drive.mount('/content/drive')"
      ],
      "metadata": {
        "colab": {
          "base_uri": "https://localhost:8080/"
        },
        "id": "fYlOgVIQwiVB",
        "outputId": "6a69e9ca-44b1-4c43-f223-4f21e8ecfbb5"
      },
      "execution_count": 6,
      "outputs": [
        {
          "output_type": "stream",
          "name": "stdout",
          "text": [
            "Drive already mounted at /content/drive; to attempt to forcibly remount, call drive.mount(\"/content/drive\", force_remount=True).\n"
          ]
        }
      ]
    },
    {
      "cell_type": "code",
      "source": [
        "!pip install pyspark\n"
      ],
      "metadata": {
        "colab": {
          "base_uri": "https://localhost:8080/"
        },
        "id": "vKfBHWr0yLKs",
        "outputId": "cf0f24d8-9bed-4332-890d-9c5c1e009033"
      },
      "execution_count": 7,
      "outputs": [
        {
          "output_type": "stream",
          "name": "stdout",
          "text": [
            "Requirement already satisfied: pyspark in /usr/local/lib/python3.12/dist-packages (3.5.1)\n",
            "Requirement already satisfied: py4j==0.10.9.7 in /usr/local/lib/python3.12/dist-packages (from pyspark) (0.10.9.7)\n"
          ]
        }
      ]
    },
    {
      "cell_type": "code",
      "source": [
        "from pyspark.sql import SparkSession\n",
        "from pyspark.ml.feature import VectorAssembler, StringIndexer\n",
        "from pyspark.ml.regression import RandomForestRegressor, GBTRegressor\n",
        "from pyspark.ml.evaluation import RegressionEvaluator\n",
        "from pyspark.sql.functions import col\n",
        "import matplotlib.pyplot as plt\n"
      ],
      "metadata": {
        "id": "c5CJ_FnHyWg2"
      },
      "execution_count": 8,
      "outputs": []
    },
    {
      "cell_type": "code",
      "source": [
        "# Start Spark Session\n",
        "spark = SparkSession.builder \\\n",
        "    .appName(\"BigDataMoviesML\") \\\n",
        "    .config(\"spark.executor.memory\", \"4g\") \\\n",
        "    .config(\"spark.driver.memory\", \"4g\") \\\n",
        "    .getOrCreate()\n"
      ],
      "metadata": {
        "id": "iVP5MnlryyMR"
      },
      "execution_count": 9,
      "outputs": []
    },
    {
      "cell_type": "code",
      "source": [
        "df = spark.read.csv(\"/content/title.basics.tsv\", header=True, inferSchema=True, sep=\"\\t\")\n",
        "df.printSchema()\n",
        "df.show(5)"
      ],
      "metadata": {
        "colab": {
          "base_uri": "https://localhost:8080/"
        },
        "id": "RleRTPzzzEP5",
        "outputId": "cfb369f7-daa3-4fe0-fdcd-f2eaa0f00798"
      },
      "execution_count": 10,
      "outputs": [
        {
          "output_type": "stream",
          "name": "stdout",
          "text": [
            "root\n",
            " |-- tconst: string (nullable = true)\n",
            " |-- titleType: string (nullable = true)\n",
            " |-- primaryTitle: string (nullable = true)\n",
            " |-- originalTitle: string (nullable = true)\n",
            " |-- isAdult: integer (nullable = true)\n",
            " |-- startYear: string (nullable = true)\n",
            " |-- endYear: string (nullable = true)\n",
            " |-- runtimeMinutes: string (nullable = true)\n",
            " |-- genres: string (nullable = true)\n",
            "\n",
            "+---------+---------+--------------------+--------------------+-------+---------+-------+--------------+--------------------+\n",
            "|   tconst|titleType|        primaryTitle|       originalTitle|isAdult|startYear|endYear|runtimeMinutes|              genres|\n",
            "+---------+---------+--------------------+--------------------+-------+---------+-------+--------------+--------------------+\n",
            "|tt0000001|    short|          Carmencita|          Carmencita|      0|     1894|     \\N|             1|   Documentary,Short|\n",
            "|tt0000002|    short|Le clown et ses c...|Le clown et ses c...|      0|     1892|     \\N|             5|     Animation,Short|\n",
            "|tt0000003|    short|        Poor Pierrot|      Pauvre Pierrot|      0|     1892|     \\N|             5|Animation,Comedy,...|\n",
            "|tt0000004|    short|         Un bon bock|         Un bon bock|      0|     1892|     \\N|            12|     Animation,Short|\n",
            "|tt0000005|    short|    Blacksmith Scene|    Blacksmith Scene|      0|     1893|     \\N|             1|               Short|\n",
            "+---------+---------+--------------------+--------------------+-------+---------+-------+--------------+--------------------+\n",
            "only showing top 5 rows\n",
            "\n"
          ]
        }
      ]
    },
    {
      "cell_type": "code",
      "metadata": {
        "id": "f89a5451",
        "colab": {
          "base_uri": "https://localhost:8080/"
        },
        "outputId": "9084fda2-16ae-409d-e1b8-5ad6647220c0"
      },
      "source": [
        "# Display summary statistics for numerical columns\n",
        "df.describe().show()\n",
        "\n",
        "# Check for missing values\n",
        "from pyspark.sql.functions import col, sum as spark_sum\n",
        "df.select(*(spark_sum(col(c).isNull().cast(\"integer\")).alias(c) for c in df.columns)).show()\n",
        "\n",
        "# Display distinct values for categorical columns (e.g., titleType, isAdult)\n",
        "df.select('titleType').distinct().show()\n",
        "df.select('isAdult').distinct().show()\n",
        "df.select('genres').distinct().show(truncate=False) # Show all genres without truncation"
      ],
      "execution_count": 11,
      "outputs": [
        {
          "output_type": "stream",
          "name": "stdout",
          "text": [
            "+-------+---------+---------+------------------+------------------+--------------------+------------------+------------------+-----------------+------+\n",
            "|summary|   tconst|titleType|      primaryTitle|     originalTitle|             isAdult|         startYear|           endYear|   runtimeMinutes|genres|\n",
            "+-------+---------+---------+------------------+------------------+--------------------+------------------+------------------+-----------------+------+\n",
            "|  count|    78845|    78845|             78845|             78845|               78845|             78845|             78845|            78845| 78845|\n",
            "|   mean|     NULL|     NULL|1273.6192631578947|1138.1714444444444|0.003424440357663...| 1946.693339928719|1969.4421626152557|74.16307448028464|  NULL|\n",
            "| stddev|     NULL|     NULL| 853.7799633761904| 897.4665264968824| 0.05841880562181526|21.075563844171747|10.610593939493716|39.16034179528157|  NULL|\n",
            "|    min|tt0000001|    movie|                 $|                 $|                   0|              1892|              1945|                1|Action|\n",
            "|    max|tt0080582|    video|    Ünnepi vacsora|   Ütközet békében|                   1|                \\N|                \\N|               \\N|    \\N|\n",
            "+-------+---------+---------+------------------+------------------+--------------------+------------------+------------------+-----------------+------+\n",
            "\n",
            "+------+---------+------------+-------------+-------+---------+-------+--------------+------+\n",
            "|tconst|titleType|primaryTitle|originalTitle|isAdult|startYear|endYear|runtimeMinutes|genres|\n",
            "+------+---------+------------+-------------+-------+---------+-------+--------------+------+\n",
            "|     0|        0|           0|            0|      0|        0|      0|             0|     0|\n",
            "+------+---------+------------+-------------+-------+---------+-------+--------------+------+\n",
            "\n",
            "+------------+\n",
            "|   titleType|\n",
            "+------------+\n",
            "|    tvSeries|\n",
            "|tvMiniSeries|\n",
            "|     tvMovie|\n",
            "|   tvEpisode|\n",
            "|       movie|\n",
            "|   tvSpecial|\n",
            "|       video|\n",
            "|     tvShort|\n",
            "|       short|\n",
            "+------------+\n",
            "\n",
            "+-------+\n",
            "|isAdult|\n",
            "+-------+\n",
            "|      1|\n",
            "|      0|\n",
            "+-------+\n",
            "\n",
            "+--------------------------+\n",
            "|genres                    |\n",
            "+--------------------------+\n",
            "|Comedy,Sport              |\n",
            "|Action,Adventure,Fantasy  |\n",
            "|Music,Musical,Short       |\n",
            "|Adventure,Family,Fantasy  |\n",
            "|Comedy,Drama,Western      |\n",
            "|Game-Show,Reality-TV      |\n",
            "|Film-Noir,Horror,Thriller |\n",
            "|Fantasy,Mystery,Thriller  |\n",
            "|Adventure,Crime,Musical   |\n",
            "|Documentary,Sport         |\n",
            "|Film-Noir,Mystery,Thriller|\n",
            "|Comedy,Musical,Sci-Fi     |\n",
            "|Documentary,Horror,Short  |\n",
            "|Action,Animation,Sci-Fi   |\n",
            "|Fantasy,Sci-Fi,Thriller   |\n",
            "|Documentary,News,Short    |\n",
            "|Musical,Short             |\n",
            "|Drama,Film-Noir,Horror    |\n",
            "|Animation,Comedy          |\n",
            "|Comedy,Family             |\n",
            "+--------------------------+\n",
            "only showing top 20 rows\n",
            "\n"
          ]
        }
      ]
    },
    {
      "cell_type": "markdown",
      "metadata": {
        "id": "171892b5"
      },
      "source": [
        "## Handle missing values\n",
        "\n",
        "### Subtask:\n",
        "Address the missing values in the 'genres' column.\n"
      ]
    },
    {
      "cell_type": "markdown",
      "metadata": {
        "id": "d1946d63"
      },
      "source": [
        "**Reasoning**:\n",
        "Fill the missing values in the 'genres' column with 'Unknown' and then check for nulls in that column to verify.\n",
        "\n"
      ]
    },
    {
      "cell_type": "code",
      "metadata": {
        "id": "822c54b8",
        "colab": {
          "base_uri": "https://localhost:8080/"
        },
        "outputId": "8ff42e4a-8f33-475f-ab9b-2e6c6216616c"
      },
      "source": [
        "df = df.fillna({'genres': 'Unknown'})\n",
        "df.select(spark_sum(col('genres').isNull().cast(\"integer\")).alias('genres')).show()"
      ],
      "execution_count": 12,
      "outputs": [
        {
          "output_type": "stream",
          "name": "stdout",
          "text": [
            "+------+\n",
            "|genres|\n",
            "+------+\n",
            "|     0|\n",
            "+------+\n",
            "\n"
          ]
        }
      ]
    },
    {
      "cell_type": "markdown",
      "metadata": {
        "id": "a309ed12"
      },
      "source": [
        "## Clean and convert data types\n",
        "\n",
        "### Subtask:\n",
        "Clean and convert 'startYear', 'endYear', and 'runtimeMinutes' to appropriate numeric types, handling the '\\N' values. Also, examine and potentially clean the 'isAdult' column.\n"
      ]
    },
    {
      "cell_type": "code",
      "metadata": {
        "id": "c1afb9e9",
        "colab": {
          "base_uri": "https://localhost:8080/"
        },
        "outputId": "d4785e8b-d917-445b-ed76-e4d10609d587"
      },
      "source": [
        "from pyspark.sql.types import IntegerType\n",
        "from pyspark.sql.functions import when, col, lit\n",
        "\n",
        "# Replace '\\N' with None and cast to IntegerType for startYear and endYear\n",
        "df = df.withColumn(\"startYear\", when(col(\"startYear\") == \"\\\\N\", None).otherwise(col(\"startYear\").cast(IntegerType())))\n",
        "df = df.withColumn(\"endYear\", when(col(\"endYear\") == \"\\\\N\", None).otherwise(col(\"endYear\").cast(IntegerType())))\n",
        "\n",
        "# Replace '\\N' with None and cast to IntegerType for runtimeMinutes\n",
        "df = df.withColumn(\"runtimeMinutes\", when(col(\"runtimeMinutes\") == \"\\\\N\", None).otherwise(col(\"runtimeMinutes\").cast(IntegerType())))\n",
        "\n",
        "# Examine distinct values in isAdult again\n",
        "df.select('isAdult').distinct().show()\n",
        "\n",
        "# Based on the previous distinct values output (0, 1, 2019, 2020, 1981, 2017), filter out the unexpected values\n",
        "df = df.filter(col(\"isAdult\").isin([0, 1]))\n",
        "\n",
        "# Verify the schema and distinct values after cleaning\n",
        "df.printSchema()\n",
        "df.select('isAdult').distinct().show()\n",
        "df.select(*(spark_sum(col(c).isNull().cast(\"integer\")).alias(c) for c in ['startYear', 'endYear', 'runtimeMinutes', 'isAdult'])).show()"
      ],
      "execution_count": 13,
      "outputs": [
        {
          "output_type": "stream",
          "name": "stdout",
          "text": [
            "+-------+\n",
            "|isAdult|\n",
            "+-------+\n",
            "|      1|\n",
            "|      0|\n",
            "+-------+\n",
            "\n",
            "root\n",
            " |-- tconst: string (nullable = true)\n",
            " |-- titleType: string (nullable = true)\n",
            " |-- primaryTitle: string (nullable = true)\n",
            " |-- originalTitle: string (nullable = true)\n",
            " |-- isAdult: integer (nullable = true)\n",
            " |-- startYear: integer (nullable = true)\n",
            " |-- endYear: integer (nullable = true)\n",
            " |-- runtimeMinutes: integer (nullable = true)\n",
            " |-- genres: string (nullable = false)\n",
            "\n",
            "+-------+\n",
            "|isAdult|\n",
            "+-------+\n",
            "|      1|\n",
            "|      0|\n",
            "+-------+\n",
            "\n",
            "+---------+-------+--------------+-------+\n",
            "|startYear|endYear|runtimeMinutes|isAdult|\n",
            "+---------+-------+--------------+-------+\n",
            "|        2|  76459|         10827|      0|\n",
            "+---------+-------+--------------+-------+\n",
            "\n"
          ]
        }
      ]
    },
    {
      "cell_type": "markdown",
      "metadata": {
        "id": "853cd6ea"
      },
      "source": [
        "## Feature engineering\n",
        "\n",
        "### Subtask:\n",
        "Based on the analysis goals, consider creating new features from existing columns (e.g., extracting primary genre, calculating movie age).\n"
      ]
    },
    {
      "cell_type": "code",
      "metadata": {
        "id": "f34a3955",
        "colab": {
          "base_uri": "https://localhost:8080/"
        },
        "outputId": "ce652285-5bae-4a0d-d47d-4591125096e4"
      },
      "source": [
        "from pyspark.sql.functions import split, element_at, lit\n",
        "import datetime\n",
        "\n",
        "# Define 'primaryGenre'\n",
        "df = df.withColumn('primaryGenre', element_at(split(col('genres'), ','), 1))\n",
        "\n",
        "# Define 'movieAge'\n",
        "current_year_val = datetime.datetime.now().year\n",
        "df = df.withColumn('movieAge', lit(current_year_val) - col('startYear'))\n",
        "\n",
        "# Show schema and first few rows\n",
        "df.printSchema()\n",
        "df.show(5)"
      ],
      "execution_count": 14,
      "outputs": [
        {
          "output_type": "stream",
          "name": "stdout",
          "text": [
            "root\n",
            " |-- tconst: string (nullable = true)\n",
            " |-- titleType: string (nullable = true)\n",
            " |-- primaryTitle: string (nullable = true)\n",
            " |-- originalTitle: string (nullable = true)\n",
            " |-- isAdult: integer (nullable = true)\n",
            " |-- startYear: integer (nullable = true)\n",
            " |-- endYear: integer (nullable = true)\n",
            " |-- runtimeMinutes: integer (nullable = true)\n",
            " |-- genres: string (nullable = false)\n",
            " |-- primaryGenre: string (nullable = true)\n",
            " |-- movieAge: integer (nullable = true)\n",
            "\n",
            "+---------+---------+--------------------+--------------------+-------+---------+-------+--------------+--------------------+------------+--------+\n",
            "|   tconst|titleType|        primaryTitle|       originalTitle|isAdult|startYear|endYear|runtimeMinutes|              genres|primaryGenre|movieAge|\n",
            "+---------+---------+--------------------+--------------------+-------+---------+-------+--------------+--------------------+------------+--------+\n",
            "|tt0000001|    short|          Carmencita|          Carmencita|      0|     1894|   NULL|             1|   Documentary,Short| Documentary|     131|\n",
            "|tt0000002|    short|Le clown et ses c...|Le clown et ses c...|      0|     1892|   NULL|             5|     Animation,Short|   Animation|     133|\n",
            "|tt0000003|    short|        Poor Pierrot|      Pauvre Pierrot|      0|     1892|   NULL|             5|Animation,Comedy,...|   Animation|     133|\n",
            "|tt0000004|    short|         Un bon bock|         Un bon bock|      0|     1892|   NULL|            12|     Animation,Short|   Animation|     133|\n",
            "|tt0000005|    short|    Blacksmith Scene|    Blacksmith Scene|      0|     1893|   NULL|             1|               Short|       Short|     132|\n",
            "+---------+---------+--------------------+--------------------+-------+---------+-------+--------------+--------------------+------------+--------+\n",
            "only showing top 5 rows\n",
            "\n"
          ]
        }
      ]
    },
    {
      "cell_type": "markdown",
      "metadata": {
        "id": "600b927b"
      },
      "source": [
        "## Handle missing values\n",
        "\n",
        "### Subtask:\n",
        "Address the missing values in the 'genres' column."
      ]
    },
    {
      "cell_type": "code",
      "metadata": {
        "id": "d601f6df",
        "colab": {
          "base_uri": "https://localhost:8080/"
        },
        "outputId": "b9e88a78-955d-4ff2-9827-000e273aa8f7"
      },
      "source": [
        "from pyspark.sql.functions import col, sum as spark_sum\n",
        "\n",
        "df = df.fillna({'genres': 'Unknown'})\n",
        "df.select(spark_sum(col('genres').isNull().cast(\"integer\")).alias('genres')).show()"
      ],
      "execution_count": 15,
      "outputs": [
        {
          "output_type": "stream",
          "name": "stdout",
          "text": [
            "+------+\n",
            "|genres|\n",
            "+------+\n",
            "|     0|\n",
            "+------+\n",
            "\n"
          ]
        }
      ]
    },
    {
      "cell_type": "code",
      "metadata": {
        "id": "IwpI6tf61BRX",
        "colab": {
          "base_uri": "https://localhost:8080/"
        },
        "outputId": "537b68fc-d19a-426c-d8a0-8a89e3af46b4"
      },
      "source": [
        "from pyspark.sql.functions import split, element_at, lit\n",
        "\n",
        "# Define 'primaryGenre'\n",
        "df = df.withColumn('primaryGenre', element_at(split(col('genres'), ','), 1))\n",
        "\n",
        "# Define 'movieAge' using a literal for the current year\n",
        "current_year_val = 2025\n",
        "df = df.withColumn('movieAge', lit(current_year_val) - col('startYear'))\n",
        "\n",
        "# Show schema and first few rows\n",
        "df.printSchema()\n",
        "df.show(5)"
      ],
      "execution_count": 16,
      "outputs": [
        {
          "output_type": "stream",
          "name": "stdout",
          "text": [
            "root\n",
            " |-- tconst: string (nullable = true)\n",
            " |-- titleType: string (nullable = true)\n",
            " |-- primaryTitle: string (nullable = true)\n",
            " |-- originalTitle: string (nullable = true)\n",
            " |-- isAdult: integer (nullable = true)\n",
            " |-- startYear: integer (nullable = true)\n",
            " |-- endYear: integer (nullable = true)\n",
            " |-- runtimeMinutes: integer (nullable = true)\n",
            " |-- genres: string (nullable = false)\n",
            " |-- primaryGenre: string (nullable = true)\n",
            " |-- movieAge: integer (nullable = true)\n",
            "\n",
            "+---------+---------+--------------------+--------------------+-------+---------+-------+--------------+--------------------+------------+--------+\n",
            "|   tconst|titleType|        primaryTitle|       originalTitle|isAdult|startYear|endYear|runtimeMinutes|              genres|primaryGenre|movieAge|\n",
            "+---------+---------+--------------------+--------------------+-------+---------+-------+--------------+--------------------+------------+--------+\n",
            "|tt0000001|    short|          Carmencita|          Carmencita|      0|     1894|   NULL|             1|   Documentary,Short| Documentary|     131|\n",
            "|tt0000002|    short|Le clown et ses c...|Le clown et ses c...|      0|     1892|   NULL|             5|     Animation,Short|   Animation|     133|\n",
            "|tt0000003|    short|        Poor Pierrot|      Pauvre Pierrot|      0|     1892|   NULL|             5|Animation,Comedy,...|   Animation|     133|\n",
            "|tt0000004|    short|         Un bon bock|         Un bon bock|      0|     1892|   NULL|            12|     Animation,Short|   Animation|     133|\n",
            "|tt0000005|    short|    Blacksmith Scene|    Blacksmith Scene|      0|     1893|   NULL|             1|               Short|       Short|     132|\n",
            "+---------+---------+--------------------+--------------------+-------+---------+-------+--------------+--------------------+------------+--------+\n",
            "only showing top 5 rows\n",
            "\n"
          ]
        }
      ]
    },
    {
      "cell_type": "markdown",
      "metadata": {
        "id": "0022da86"
      },
      "source": [
        "## Prepare Data for ML\n",
        "\n",
        "### Subtask:\n",
        "Convert categorical features into numerical format using StringIndexer and assemble all features into a single vector column using VectorAssembler."
      ]
    },
    {
      "cell_type": "code",
      "source": [
        "df = spark.read.csv(\"/content/title.basics.tsv\",\n",
        "                    sep=\"\\t\",    # <-- important for TSV\n",
        "                    header=True,\n",
        "                    inferSchema=True)"
      ],
      "metadata": {
        "id": "bhrey6HHJxH4"
      },
      "execution_count": 17,
      "outputs": []
    },
    {
      "cell_type": "code",
      "source": [
        "# Build Machine Learning Models (Regression)\n",
        "# Dataset: Movies Dataset\n",
        "\n",
        "# Import Libraries\n",
        "from pyspark.sql import SparkSession\n",
        "from pyspark.ml.feature import StringIndexer, VectorAssembler, StandardScaler\n",
        "from pyspark.ml.regression import RandomForestRegressor, GBTRegressor\n",
        "from pyspark.ml.evaluation import RegressionEvaluator # Corrected typo here\n",
        "from pyspark.sql.functions import col, when, split, element_at, lit\n",
        "from pyspark.sql.types import IntegerType\n",
        "import pandas as pd\n",
        "import matplotlib.pyplot as plt\n",
        "import datetime\n",
        "\n",
        "# Start Spark Session (if not already started)\n",
        "spark = SparkSession.builder.appName(\"BigDataMoviesML_Regression\").getOrCreate()\n",
        "\n",
        "# Load Dataset\n",
        "df = spark.read.csv(\"/content/title.basics.tsv\", header=True, inferSchema=True, sep=\"\\t\")\n",
        "\n",
        "# Data Cleaning: Handle '\\N' values and convert data types\n",
        "df = df.withColumn(\"startYear\", when(col(\"startYear\") == \"\\\\N\", None).otherwise(col(\"startYear\").cast(IntegerType())))\n",
        "df = df.withColumn(\"endYear\", when(col(\"endYear\") == \"\\\\N\", None).otherwise(col(\"endYear\").cast(IntegerType())))\n",
        "df = df.withColumn(\"runtimeMinutes\", when(col(\"runtimeMinutes\") == \"\\\\N\", None).otherwise(col(\"runtimeMinutes\").cast(IntegerType())))\n",
        "df = df.filter(col(\"isAdult\").isin([0, 1])) # Filter out unexpected isAdult values\n",
        "df = df.fillna({'genres': 'Unknown'}) # Handle missing genres\n",
        "\n",
        "# Feature Engineering: Create 'primaryGenre' and 'movieAge'\n",
        "df = df.withColumn('primaryGenre', element_at(split(col('genres'), ','), 1))\n",
        "current_year_val = datetime.datetime.now().year # Use current year for movieAge\n",
        "df = df.withColumn('movieAge', lit(current_year_val) - col('startYear'))\n",
        "\n",
        "# Data Preparation for ML\n",
        "\n",
        "# Print schema before StringIndexer fit to check for primaryGenre\n",
        "print(\"Schema before StringIndexer fit:\")\n",
        "df.printSchema()\n",
        "\n",
        "# Convert 'primaryGenre' to numerical using StringIndexer\n",
        "genre_indexer = StringIndexer(inputCol=\"primaryGenre\", outputCol=\"primaryGenre_index\").fit(df)\n",
        "df_indexed = genre_indexer.transform(df)\n",
        "\n",
        "# Handle missing values in runtimeMinutes and startYear by filtering *after* indexing\n",
        "df_reg = df_indexed.filter(col(\"runtimeMinutes\").isNotNull() & col(\"startYear\").isNotNull() & col(\"movieAge\").isNotNull() & col(\"primaryGenre_index\").isNotNull())\n",
        "\n",
        "\n",
        "# Define feature columns for regression\n",
        "feature_cols_reg = [\"isAdult\", \"startYear\", \"movieAge\", \"primaryGenre_index\"]\n",
        "\n",
        "# Assemble features into a single vector\n",
        "assembler_reg = VectorAssembler(inputCols=feature_cols_reg, outputCol=\"features\")\n",
        "df_reg = assembler_reg.transform(df_reg)\n",
        "\n",
        "# Scale features (optional but often beneficial for ML models)\n",
        "# scaler = StandardScaler(inputCol=\"features\", outputCol=\"scaledFeatures\", withStd=True, withMean=False)\n",
        "# scaler_model = scaler.fit(df_reg)\n",
        "# df_reg = scaler_model.transform(df_reg)\n",
        "\n",
        "# Final dataset for regression\n",
        "# Use 'runtimeMinutes' as the label and the assembled/scaled features\n",
        "reg_data = df_reg.select(\"features\", col(\"runtimeMinutes\").alias(\"label\"))\n",
        "# If using scaled features:\n",
        "# reg_data = df_reg.select(\"scaledFeatures\", col(\"runtimeMinutes\").alias(\"label\"))\n",
        "\n",
        "reg_data.show(5)\n",
        "\n",
        "\n",
        "# Train/Test Split\n",
        "train_reg, test_reg = reg_data.randomSplit([0.8, 0.2], seed=42)\n",
        "\n",
        "# Build Random Forest Regressor\n",
        "rf_reg = RandomForestRegressor(featuresCol=\"features\", labelCol=\"label\", numTrees=100, maxDepth=10, seed=42)\n",
        "rf_reg_model = rf_reg.fit(train_reg)\n",
        "\n",
        "# Predictions\n",
        "pred_reg = rf_reg_model.transform(test_reg)\n",
        "pred_reg.select(\"label\", \"prediction\").show(10)\n",
        "\n",
        "# Evaluation (Regression)\n",
        "evaluator_rmse = RegressionEvaluator(labelCol=\"label\", predictionCol=\"prediction\", metricName=\"rmse\")\n",
        "evaluator_r2 = RegressionEvaluator(labelCol=\"label\", predictionCol=\"prediction\", metricName=\"r2\")\n",
        "\n",
        "rmse = evaluator_rmse.evaluate(pred_reg)\n",
        "r2 = evaluator_r2.evaluate(pred_reg)\n",
        "\n",
        "print(\" Regression Model Performance:\")\n",
        "print(f\" RMSE: {rmse:.2f}\")\n",
        "print(f\" R² Score: {r2:.4f}\")\n",
        "\n",
        "# Feature Importance\n",
        "# Note: Feature importance from VectorAssembler requires matching indices to original feature names\n",
        "# This is a simplified way to get importance based on the order in feature_cols_reg\n",
        "fi_reg = rf_reg_model.featureImportances.toArray()\n",
        "fi_reg_pd = pd.DataFrame(list(zip(feature_cols_reg, fi_reg)), columns=[\"Feature\", \"Importance\"]).sort_values(by=\"Importance\", ascending=False)\n",
        "\n",
        "print(\" Regression Feature Importance:\")\n",
        "print(fi_reg_pd)\n",
        "\n",
        "# Plot\n",
        "plt.figure(figsize=(8,5))\n",
        "plt.barh(fi_reg_pd[\"Feature\"], fi_reg_pd[\"Importance\"], color=\"orange\")\n",
        "plt.xlabel(\"Importance\")\n",
        "plt.ylabel(\"Feature\")\n",
        "plt.title(\"Feature Importance (Regression - Runtime)\")\n",
        "plt.gca().invert_yaxis()\n",
        "plt.show()\n"
      ],
      "metadata": {
        "id": "O53wtHqbKkH6",
        "colab": {
          "base_uri": "https://localhost:8080/",
          "height": 1000
        },
        "outputId": "a8ab9460-7896-4687-9158-5cb5ddf542b6"
      },
      "execution_count": 18,
      "outputs": [
        {
          "output_type": "stream",
          "name": "stdout",
          "text": [
            "Schema before StringIndexer fit:\n",
            "root\n",
            " |-- tconst: string (nullable = true)\n",
            " |-- titleType: string (nullable = true)\n",
            " |-- primaryTitle: string (nullable = true)\n",
            " |-- originalTitle: string (nullable = true)\n",
            " |-- isAdult: integer (nullable = true)\n",
            " |-- startYear: integer (nullable = true)\n",
            " |-- endYear: integer (nullable = true)\n",
            " |-- runtimeMinutes: integer (nullable = true)\n",
            " |-- genres: string (nullable = false)\n",
            " |-- primaryGenre: string (nullable = true)\n",
            " |-- movieAge: integer (nullable = true)\n",
            "\n",
            "+--------------------+-----+\n",
            "|            features|label|\n",
            "+--------------------+-----+\n",
            "|[0.0,1894.0,131.0...|    1|\n",
            "|[0.0,1892.0,133.0...|    5|\n",
            "|[0.0,1892.0,133.0...|    5|\n",
            "|[0.0,1892.0,133.0...|   12|\n",
            "|[0.0,1893.0,132.0...|    1|\n",
            "+--------------------+-----+\n",
            "only showing top 5 rows\n",
            "\n",
            "+-----+------------------+\n",
            "|label|        prediction|\n",
            "+-----+------------------+\n",
            "|    5|10.055578995548982|\n",
            "|    1|  18.6194333625473|\n",
            "|    1|17.937927553125867|\n",
            "|    1|  18.6194333625473|\n",
            "|    1|  18.6194333625473|\n",
            "|    1|  18.6194333625473|\n",
            "|    1| 34.69220792199619|\n",
            "|    1|24.210090193432745|\n",
            "|    1|  18.6194333625473|\n",
            "|    1|  18.6194333625473|\n",
            "+-----+------------------+\n",
            "only showing top 10 rows\n",
            "\n",
            " Regression Model Performance:\n",
            " RMSE: 33.04\n",
            " R² Score: 0.3669\n",
            " Regression Feature Importance:\n",
            "              Feature  Importance\n",
            "3  primaryGenre_index    0.711854\n",
            "2            movieAge    0.150366\n",
            "1           startYear    0.133746\n",
            "0             isAdult    0.004034\n"
          ]
        },
        {
          "output_type": "display_data",
          "data": {
            "text/plain": [
              "<Figure size 800x500 with 1 Axes>"
            ],
            "image/png": "[encoded data removed]"
          },
          "metadata": {}
        }
      ]
    }
  ]
}
